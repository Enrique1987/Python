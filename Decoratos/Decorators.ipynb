{
 "cells": [
  {
   "cell_type": "markdown",
   "metadata": {},
   "source": [
    "# Decorator"
   ]
  },
  {
   "cell_type": "markdown",
   "metadata": {},
   "source": [
    "#### Decorator\n",
    "A Decoratos is a callable that takes another function as an argument, extending the behaviour of that function without explicitly modifying that function "
   ]
  },
  {
   "cell_type": "markdown",
   "metadata": {},
   "source": [
    "**Why do we use decorators or when to use them, why just not chang a function ?**\n",
    "\n",
    "*Example*\n",
    "    I have a project and that project have a  lot of functions.., I would like that every function show something(for example one print)\n",
    "    I could go one by one and adding that part of code but I could use a decorator and when I dont need that anymore\n",
    "    delete the decorator and it will delete delete for alls its much more elegant and secure to delete some lines of code of all the functions\n"
   ]
  },
  {
   "cell_type": "code",
   "execution_count": null,
   "metadata": {},
   "outputs": [],
   "source": [
    "def my_decorator(fun)"
   ]
  }
 ],
 "metadata": {
  "kernelspec": {
   "display_name": "Python 3",
   "language": "python",
   "name": "python3"
  },
  "language_info": {
   "codemirror_mode": {
    "name": "ipython",
    "version": 3
   },
   "file_extension": ".py",
   "mimetype": "text/x-python",
   "name": "python",
   "nbconvert_exporter": "python",
   "pygments_lexer": "ipython3",
   "version": "3.7.6"
  }
 },
 "nbformat": 4,
 "nbformat_minor": 4
}
