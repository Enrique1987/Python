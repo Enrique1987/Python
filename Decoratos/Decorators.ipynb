{
 "cells": [
  {
   "cell_type": "markdown",
   "metadata": {},
   "source": [
    "# Decorator"
   ]
  },
  {
   "cell_type": "markdown",
   "metadata": {},
   "source": [
    "#### Decorator\n",
    "A Decoratos is a callable that takes another function as an argument, extending the behaviour of that function without explicitly modifying that function "
   ]
  },
  {
   "cell_type": "markdown",
   "metadata": {},
   "source": [
    "**Why do we use decorators or when to use them, why just not chang a function ?**\n",
    "\n",
    "*Example*\n",
    "    I have a project and that project have a  lot of functions.., I would like that every function show something(for example one print)\n",
    "    I could go one by one and adding that part of code but I could use a decorator and when I dont need that anymore\n",
    "    delete the decorator and it will delete delete for alls its much more elegant and secure to delete some lines of code of all the functions\n"
   ]
  },
  {
   "cell_type": "code",
   "execution_count": 12,
   "metadata": {},
   "outputs": [
    {
     "name": "stdout",
     "output_type": "stream",
     "text": [
      "fibonacci\n"
     ]
    }
   ],
   "source": [
    "def my_decorator(func):\n",
    "    def wrapper():       \n",
    "        return 'F-I-B-O-N-A-C-C-I'\n",
    "    return wrapper\n",
    "    \n",
    "def pfib():\n",
    "    return 'fibonacci'\n",
    "\n",
    "print(pfib())\n"
   ]
  },
  {
   "cell_type": "code",
   "execution_count": 13,
   "metadata": {},
   "outputs": [
    {
     "name": "stdout",
     "output_type": "stream",
     "text": [
      "F-I-B-O-N-A-C-C-I\n"
     ]
    }
   ],
   "source": [
    "pfib = my_decorator(pfib)\n",
    "print(pfib())"
   ]
  },
  {
   "cell_type": "code",
   "execution_count": 15,
   "metadata": {},
   "outputs": [
    {
     "name": "stdout",
     "output_type": "stream",
     "text": [
      "F-I-B-O-N-A-C-C-I\n"
     ]
    }
   ],
   "source": [
    "@my_decorator    # that is the equivalent to pfib = my_decorator(pfib)\n",
    "def pfib():\n",
    "    return 'fibonacci'\n",
    "\n",
    "print(pfib())\n"
   ]
  },
  {
   "cell_type": "markdown",
   "metadata": {},
   "source": [
    "**Exercice:**\n",
    "\n",
    "*Modify the output of pfib() to look like this \n",
    "\n",
    "(img exercice 1)\n",
    "\n",
    "    "
   ]
  },
  {
   "cell_type": "code",
   "execution_count": 56,
   "metadata": {},
   "outputs": [],
   "source": [
    "def make_posh(func):\n",
    "    def wrapper():\n",
    "        print('+---------+')\n",
    "        print('|         |')\n",
    "        result = func()\n",
    "        print(result)\n",
    "        print('|         |')\n",
    "        print('+=========+')\n",
    "        return result\n",
    "    return wrapper"
   ]
  },
  {
   "cell_type": "code",
   "execution_count": 57,
   "metadata": {},
   "outputs": [
    {
     "name": "stdout",
     "output_type": "stream",
     "text": [
      "+---------+\n",
      "|         |\n",
      " Fibonacci \n",
      "|         |\n",
      "+=========+\n"
     ]
    },
    {
     "data": {
      "text/plain": [
       "' Fibonacci '"
      ]
     },
     "execution_count": 57,
     "metadata": {},
     "output_type": "execute_result"
    }
   ],
   "source": [
    " \n",
    "@make_posh\n",
    "def pfib():\n",
    "    '''Print out Fibonacci'''\n",
    "    return ' Fibonacci '\n",
    "\n",
    "pfib()"
   ]
  },
  {
   "cell_type": "code",
   "execution_count": null,
   "metadata": {},
   "outputs": [],
   "source": [
    "def make_bold(func):\n",
    "    def wrapper():\n",
    "        print('+---------+')\n",
    "        print('|         |')\n",
    "        result = func()\n",
    "        print(result)\n",
    "        print('|         |')\n",
    "        print('+=========+')\n",
    "        return result\n",
    "    return wrapper"
   ]
  },
  {
   "cell_type": "markdown",
   "metadata": {},
   "source": [
    "**Exercice**\n",
    "\n",
    "    Create one decorator to make bold and italic\n",
    "    \n"
   ]
  },
  {
   "cell_type": "code",
   "execution_count": 58,
   "metadata": {},
   "outputs": [
    {
     "name": "stdout",
     "output_type": "stream",
     "text": [
      "<b><i>Fibonacci</i></b>\n"
     ]
    }
   ],
   "source": [
    "from functools import wraps\n",
    "\n",
    "def bold(func):\n",
    "    '''Bold decorator'''\n",
    "    @wraps(func)\n",
    "    def wrapper():\n",
    "        '''return html bold tags'''\n",
    "        result = '<b>' + func() + '</b>'\n",
    "        return result\n",
    "    return wrapper\n",
    "\n",
    "def italics(func):\n",
    "    '''Italics decorator'''\n",
    "    @wraps(func)\n",
    "    def wrapper():\n",
    "        '''return html italics tags'''\n",
    "        result = '<i>' + func() + '</i>'\n",
    "        return result\n",
    "    return wrapper\n",
    "\n",
    "@bold\n",
    "@italics\n",
    "def printfib():\n",
    "    '''return Fibonacci'''\n",
    "    return 'Fibonacci'\n",
    "\n",
    "print(printfib())"
   ]
  },
  {
   "cell_type": "code",
   "execution_count": null,
   "metadata": {},
   "outputs": [],
   "source": []
  },
  {
   "cell_type": "code",
   "execution_count": null,
   "metadata": {},
   "outputs": [],
   "source": []
  },
  {
   "cell_type": "code",
   "execution_count": null,
   "metadata": {},
   "outputs": [],
   "source": []
  },
  {
   "cell_type": "code",
   "execution_count": null,
   "metadata": {},
   "outputs": [],
   "source": []
  }
 ],
 "metadata": {
  "kernelspec": {
   "display_name": "Python 3",
   "language": "python",
   "name": "python3"
  },
  "language_info": {
   "codemirror_mode": {
    "name": "ipython",
    "version": 3
   },
   "file_extension": ".py",
   "mimetype": "text/x-python",
   "name": "python",
   "nbconvert_exporter": "python",
   "pygments_lexer": "ipython3",
   "version": "3.7.6"
  }
 },
 "nbformat": 4,
 "nbformat_minor": 4
}
