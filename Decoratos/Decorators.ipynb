{
 "cells": [
  {
   "cell_type": "markdown",
   "metadata": {},
   "source": [
    "# Decorator"
   ]
  },
  {
   "cell_type": "markdown",
   "metadata": {},
   "source": [
    "#### Decorator\n",
    "A Decoratos is a callable that takes another function as an argument, extending the behaviour of that function without explicitly modifying that function "
   ]
  },
  {
   "cell_type": "markdown",
   "metadata": {},
   "source": [
    "**Why do we use decorators or when to use them, why just not chang a function ?**\n",
    "\n",
    "*Example*\n",
    "    I have a project and that project have a  lot of functions.., I would like that every function show something(for example one print)\n",
    "    I could go one by one and adding that part of code but I could use a decorator and when I dont need that anymore\n",
    "    delete the decorator and it will delete delete for alls its much more elegant and secure to delete some lines of code of all the functions\n"
   ]
  },
  {
   "cell_type": "code",
   "execution_count": 64,
   "metadata": {},
   "outputs": [
    {
     "name": "stdout",
     "output_type": "stream",
     "text": [
      "fibonacci\n"
     ]
    }
   ],
   "source": [
    "def my_decorator(func):\n",
    "    def wrapper():       \n",
    "        return 'F-I-B-O-N-A-C-C-I'\n",
    "    return wrapper\n",
    "    \n",
    "def pfib():\n",
    "    return 'fibonacci'\n",
    "\n",
    "print(pfib())\n"
   ]
  },
  {
   "cell_type": "code",
   "execution_count": 65,
   "metadata": {},
   "outputs": [
    {
     "name": "stdout",
     "output_type": "stream",
     "text": [
      "F-I-B-O-N-A-C-C-I\n"
     ]
    }
   ],
   "source": [
    "pfib = my_decorator(pfib)\n",
    "print(pfib())"
   ]
  },
  {
   "cell_type": "code",
   "execution_count": 66,
   "metadata": {},
   "outputs": [
    {
     "name": "stdout",
     "output_type": "stream",
     "text": [
      "F-I-B-O-N-A-C-C-I\n"
     ]
    }
   ],
   "source": [
    "@my_decorator    # that is the equivalent to pfib = my_decorator(pfib)\n",
    "def pfib():\n",
    "    return 'fibonacci'\n",
    "\n",
    "print(pfib())\n"
   ]
  },
  {
   "cell_type": "markdown",
   "metadata": {},
   "source": [
    "**Exercice:**\n",
    "\n",
    "*Modify the output of pfib() to look like this \n",
    "\n",
    "(img exercice 1)\n",
    "\n",
    "    "
   ]
  },
  {
   "cell_type": "code",
   "execution_count": 67,
   "metadata": {},
   "outputs": [],
   "source": [
    "def make_posh(func):\n",
    "    def wrapper():\n",
    "        print('+---------+')\n",
    "        print('|         |')\n",
    "        result = func()\n",
    "        print(result)\n",
    "        print('|         |')\n",
    "        print('+=========+')\n",
    "        return result\n",
    "    return wrapper"
   ]
  },
  {
   "cell_type": "code",
   "execution_count": 68,
   "metadata": {},
   "outputs": [
    {
     "name": "stdout",
     "output_type": "stream",
     "text": [
      "+---------+\n",
      "|         |\n",
      " Fibonacci \n",
      "|         |\n",
      "+=========+\n"
     ]
    },
    {
     "data": {
      "text/plain": [
       "' Fibonacci '"
      ]
     },
     "execution_count": 68,
     "metadata": {},
     "output_type": "execute_result"
    }
   ],
   "source": [
    " \n",
    "@make_posh\n",
    "def pfib():\n",
    "    '''Print out Fibonacci'''\n",
    "    return ' Fibonacci '\n",
    "\n",
    "pfib()"
   ]
  },
  {
   "cell_type": "code",
   "execution_count": 69,
   "metadata": {},
   "outputs": [],
   "source": [
    "def make_bold(func):\n",
    "    def wrapper():\n",
    "        print('+---------+')\n",
    "        print('|         |')\n",
    "        result = func()\n",
    "        print(result)\n",
    "        print('|         |')\n",
    "        print('+=========+')\n",
    "        return result\n",
    "    return wrapper"
   ]
  },
  {
   "cell_type": "markdown",
   "metadata": {},
   "source": [
    "**Exercice**\n",
    "\n",
    "    Create one decorator to make bold and italic\n",
    "    \n"
   ]
  },
  {
   "cell_type": "code",
   "execution_count": 70,
   "metadata": {},
   "outputs": [
    {
     "name": "stdout",
     "output_type": "stream",
     "text": [
      "<b><i>Fibonacci</i></b>\n"
     ]
    }
   ],
   "source": [
    "from functools import wraps\n",
    "\n",
    "def bold(func):\n",
    "    '''Bold decorator'''\n",
    "    @wraps(func)\n",
    "    def wrapper():\n",
    "        '''return html bold tags'''\n",
    "        result = '<b>' + func() + '</b>'\n",
    "        return result\n",
    "    return wrapper\n",
    "\n",
    "def italics(func):\n",
    "    '''Italics decorator'''\n",
    "    @wraps(func)\n",
    "    def wrapper():\n",
    "        '''return html italics tags'''\n",
    "        result = '<i>' + func() + '</i>'\n",
    "        return result\n",
    "    return wrapper\n",
    "\n",
    "@bold\n",
    "@italics\n",
    "def printfib():\n",
    "    '''return Fibonacci'''\n",
    "    return 'Fibonacci'\n",
    "\n",
    "print(printfib())"
   ]
  },
  {
   "cell_type": "code",
   "execution_count": null,
   "metadata": {},
   "outputs": [],
   "source": []
  },
  {
   "cell_type": "markdown",
   "metadata": {},
   "source": [
    "### Decorator with Arguments\n",
    "\n",
    "* Write a decorator called **much()**  that replaces character from a string with a x\n",
    "* **much()** should take star and end arguments to define when do the x start and finish.\n",
    "* start should be inclusive and end should be exclusive\n",
    "* much(1,4) should return Fxxxxacci"
   ]
  },
  {
   "cell_type": "markdown",
   "metadata": {},
   "source": [
    "we use the template for args and ** kargs\n",
    "<img src=\"../Decoratos/img/Decorator_with_args_and_kwargs.JPG\">\n"
   ]
  },
  {
   "cell_type": "code",
   "execution_count": 71,
   "metadata": {},
   "outputs": [
    {
     "name": "stdout",
     "output_type": "stream",
     "text": [
      "Fxxxnacci\n"
     ]
    }
   ],
   "source": [
    "from functools import wraps\n",
    "\n",
    "def munch(start, end):\n",
    "    def do_munch(func):\n",
    "        @wraps(func)\n",
    "        def wrapper(*args, **kwargs):\n",
    "            new_string = ''\n",
    "            result = func(*args, **kwargs)\n",
    "            for index, char in enumerate(result):\n",
    "                c = 'x' if start <= index < end else char\n",
    "                new_string += c\n",
    "            return new_string\n",
    "        return wrapper\n",
    "    return do_munch\n",
    "\n",
    "@munch(1, 4)\n",
    "def fib():\n",
    "    return 'Fibonacci'\n",
    "\n",
    "print(fib())"
   ]
  },
  {
   "cell_type": "markdown",
   "metadata": {},
   "source": [
    "## Decoratos in the real life:Flask"
   ]
  },
  {
   "cell_type": "markdown",
   "metadata": {},
   "source": [
    "Flaks is a web micro framework taht use decoratos. Well the first thing taht we want to do its to create a *virtual enviroment*  because we dont want any problems with the dependencies.\n",
    "    Steps:\n",
    "    \n",
    "        1) Create virtual enviroment: python -m venv nameOfEnviroment\n",
    "        2) instal flask: pip instal flask\n",
    "        3) activate the enviroment, we need to to go to the venv location and then:Scripts/activate\n",
    "        4) set the flask APP: set FLASK_APP=name_of_our_Program.py\n",
    "        5) run flask: flask run"
   ]
  },
  {
   "cell_type": "code",
   "execution_count": 72,
   "metadata": {},
   "outputs": [],
   "source": [
    "from flask import Flask\n",
    "\n",
    "app = Flask(__name__)\n",
    "\n",
    "@app.route('/')\n",
    "def print_fib():\n",
    "    return '<h1>Fibonacci</h1>'\n",
    "\n",
    "@app.route('/fib')\n",
    "def list_fib():\n",
    "    return '<b>1, 1, 2, 3, 5, 8, 13, 21 ...</b>'"
   ]
  },
  {
   "cell_type": "code",
   "execution_count": null,
   "metadata": {},
   "outputs": [],
   "source": []
  },
  {
   "cell_type": "code",
   "execution_count": null,
   "metadata": {},
   "outputs": [],
   "source": []
  }
 ],
 "metadata": {
  "kernelspec": {
   "display_name": "Python 3",
   "language": "python",
   "name": "python3"
  },
  "language_info": {
   "codemirror_mode": {
    "name": "ipython",
    "version": 3
   },
   "file_extension": ".py",
   "mimetype": "text/x-python",
   "name": "python",
   "nbconvert_exporter": "python",
   "pygments_lexer": "ipython3",
   "version": "3.7.6"
  }
 },
 "nbformat": 4,
 "nbformat_minor": 4
}
